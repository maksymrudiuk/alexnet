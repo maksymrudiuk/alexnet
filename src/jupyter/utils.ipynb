{
 "cells": [
  {
   "cell_type": "code",
   "execution_count": 7,
   "metadata": {},
   "outputs": [],
   "source": [
    "import os\n",
    "import re\n",
    "import random\n",
    "import string\n",
    "import cv2.cv2 as cv2"
   ]
  },
  {
   "cell_type": "code",
   "execution_count": 8,
   "metadata": {},
   "outputs": [],
   "source": [
    "def get_category(path):\n",
    "    regx = re.compile('.*/(?P<category>\\w+)/\\w+.jpg')\n",
    "    match = regx.match(path)\n",
    "    if match is not None:\n",
    "        return match.group(\"category\") \n",
    "    else:\n",
    "        print(\"No matches\")\n",
    "\n",
    "def get_random_name(chars=string.ascii_letters + string.digits):\n",
    "    name = ''.join(random.SystemRandom().choice(chars) for _ in range(20))\n",
    "    return name + ('.jpeg')"
   ]
  },
  {
   "cell_type": "code",
   "execution_count": 9,
   "metadata": {},
   "outputs": [],
   "source": [
    "def resize_and_save(originPath, pathToSave):\n",
    "    img = cv2.imread(originPath, cv2.IMREAD_UNCHANGED)\n",
    "    newimg = cv2.resize(img, (int(224),int(224)))\n",
    "    cv2.imwrite(pathToSave, newimg)\n",
    "    cv2.waitKey(0)"
   ]
  },
  {
   "cell_type": "code",
   "execution_count": 10,
   "metadata": {},
   "outputs": [],
   "source": [
    "def form_img_dataset(all_img_pathes):\n",
    "    imgStorage = '/home/maksym/data/work/master/datasets/flower_photos_224x224'\n",
    "    for path in all_img_pathes:\n",
    "        category = get_category(path)\n",
    "        name = get_random_name()\n",
    "        pathToSave = os.path.join(imgStorage, category, name)\n",
    "        resize_and_save(path, pathToSave)"
   ]
  },
  {
   "cell_type": "code",
   "execution_count": 11,
   "metadata": {},
   "outputs": [],
   "source": [
    "def form_labels_dataset(all_img_pathes):\n",
    "    labels = set()\n",
    "    for path in all_img_pathes:\n",
    "        labels.add(get_category(path))\n",
    "    return labels"
   ]
  },
  {
   "cell_type": "code",
   "execution_count": null,
   "metadata": {},
   "outputs": [],
   "source": []
  }
 ],
 "metadata": {
  "kernelspec": {
   "display_name": "master",
   "language": "python",
   "name": "master"
  },
  "language_info": {
   "codemirror_mode": {
    "name": "ipython",
    "version": 3
   },
   "file_extension": ".py",
   "mimetype": "text/x-python",
   "name": "python",
   "nbconvert_exporter": "python",
   "pygments_lexer": "ipython3",
   "version": "3.6.5"
  }
 },
 "nbformat": 4,
 "nbformat_minor": 2
}
