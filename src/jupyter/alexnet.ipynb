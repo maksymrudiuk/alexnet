{
 "cells": [
  {
   "cell_type": "code",
   "execution_count": 36,
   "metadata": {},
   "outputs": [],
   "source": [
    "# Import Dependencies\n",
    "import numpy as np\n",
    "import tensorflow as tf\n",
    "from tensorflow import keras\n",
    "from tensorflow.keras.models import Sequential\n",
    "from tensorflow.keras.layers import (Dense, Activation,\n",
    "                                     Dropout, Flatten,\n",
    "                                     Conv2D, MaxPooling2D)\n",
    "from tensorflow.layers import BatchNormalization"
   ]
  },
  {
   "cell_type": "code",
   "execution_count": 37,
   "metadata": {},
   "outputs": [
    {
     "data": {
      "text/plain": [
       "'1.12.0'"
      ]
     },
     "execution_count": 37,
     "metadata": {},
     "output_type": "execute_result"
    }
   ],
   "source": [
    "tf.__version__"
   ]
  },
  {
   "cell_type": "code",
   "execution_count": 38,
   "metadata": {},
   "outputs": [],
   "source": [
    "class AlexNet():\n",
    "    \n",
    "    def __init__(self):\n",
    "        self.model = Sequential()\n",
    "    \n",
    "    def build(self):\n",
    "        # 1st Convolutional Layer\n",
    "        self.model.add(Conv2D(filters=96, input_shape=(224,224,3), kernel_size=(11,11),\n",
    "                         strides=(4,4), padding='valid'))\n",
    "        self.model.add(Activation('relu'))\n",
    "        # Pooling \n",
    "        self.model.add(MaxPooling2D(pool_size=(2,2), strides=(2,2), padding='valid'))\n",
    "        # Batch Normalisation before passing it to the next layer\n",
    "        self.model.add(BatchNormalization())\n",
    "\n",
    "        # 2nd Convolutional Layer\n",
    "        self.model.add(Conv2D(filters=256, kernel_size=(5,5), strides=(1,1), padding='valid'))\n",
    "        self.model.add(Activation('relu'))\n",
    "        # Pooling\n",
    "        self.model.add(MaxPooling2D(pool_size=(2,2), strides=(2,2), padding='valid'))\n",
    "        # Batch Normalisation\n",
    "        self.model.add(BatchNormalization())\n",
    "\n",
    "        # 3rd Convolutional Layer\n",
    "        self.model.add(Conv2D(filters=384, kernel_size=(3,3), strides=(1,1), padding='valid'))\n",
    "        self.model.add(Activation('relu'))\n",
    "        # Batch Normalisation\n",
    "        self.model.add(BatchNormalization())\n",
    "\n",
    "        # 4th Convolutional Layer\n",
    "        self.model.add(Conv2D(filters=384, kernel_size=(3,3), strides=(1,1), padding='valid'))\n",
    "        self.model.add(Activation('relu'))\n",
    "        # Batch Normalisation\n",
    "        self.model.add(BatchNormalization())\n",
    "\n",
    "        # 5th Convolutional Layer\n",
    "        self.model.add(Conv2D(filters=256, kernel_size=(3,3), strides=(1,1), padding='valid'))\n",
    "        self.model.add(Activation('relu'))\n",
    "        # Pooling\n",
    "        self.model.add(MaxPooling2D(pool_size=(2,2), strides=(2,2), padding='valid'))\n",
    "        # Batch Normalisation\n",
    "        self.model.add(BatchNormalization())\n",
    "\n",
    "        # Passing it to a dense layer\n",
    "        self.model.add(Flatten())\n",
    "        # 1st Dense Layer\n",
    "        self.model.add(Dense(9216, input_shape=(224*224*3,)))\n",
    "        self.model.add(Activation('relu'))\n",
    "        # Add Dropout to prevent overfitting\n",
    "        self.model.add(Dropout(0.4))\n",
    "        # Batch Normalisation\n",
    "        self.model.add(BatchNormalization())\n",
    "\n",
    "        # 2nd Dense Layer\n",
    "        self.model.add(Dense(4096))\n",
    "        self.model.add(Activation('relu'))\n",
    "        # Add Dropout\n",
    "        self.model.add(Dropout(0.4))\n",
    "        # Batch Normalisation\n",
    "        self.model.add(BatchNormalization())\n",
    "\n",
    "        # 3rd Dense Layer\n",
    "        self.model.add(Dense(4096))\n",
    "        self.model.add(Activation('relu'))\n",
    "        # Add Dropout\n",
    "        self.model.add(Dropout(0.4))\n",
    "        # Batch Normalisation\n",
    "        self.model.add(BatchNormalization())\n",
    "\n",
    "        # Output Layer\n",
    "        self.model.add(Dense(1000))\n",
    "        self.model.add(Activation('softmax'))\n",
    "        self.model.summary()"
   ]
  },
  {
   "cell_type": "code",
   "execution_count": 39,
   "metadata": {},
   "outputs": [
    {
     "name": "stdout",
     "output_type": "stream",
     "text": [
      "_________________________________________________________________\n",
      "Layer (type)                 Output Shape              Param #   \n",
      "=================================================================\n",
      "conv2d_47 (Conv2D)           (None, 54, 54, 96)        34944     \n",
      "_________________________________________________________________\n",
      "activation_82 (Activation)   (None, 54, 54, 96)        0         \n",
      "_________________________________________________________________\n",
      "max_pooling2d_28 (MaxPooling (None, 27, 27, 96)        0         \n",
      "_________________________________________________________________\n",
      "batch_normalization_73 (Batc (None, 27, 27, 96)        384       \n",
      "_________________________________________________________________\n",
      "conv2d_48 (Conv2D)           (None, 23, 23, 256)       614656    \n",
      "_________________________________________________________________\n",
      "activation_83 (Activation)   (None, 23, 23, 256)       0         \n",
      "_________________________________________________________________\n",
      "max_pooling2d_29 (MaxPooling (None, 11, 11, 256)       0         \n",
      "_________________________________________________________________\n",
      "batch_normalization_74 (Batc (None, 11, 11, 256)       1024      \n",
      "_________________________________________________________________\n",
      "conv2d_49 (Conv2D)           (None, 9, 9, 384)         885120    \n",
      "_________________________________________________________________\n",
      "activation_84 (Activation)   (None, 9, 9, 384)         0         \n",
      "_________________________________________________________________\n",
      "batch_normalization_75 (Batc (None, 9, 9, 384)         1536      \n",
      "_________________________________________________________________\n",
      "conv2d_50 (Conv2D)           (None, 7, 7, 384)         1327488   \n",
      "_________________________________________________________________\n",
      "activation_85 (Activation)   (None, 7, 7, 384)         0         \n",
      "_________________________________________________________________\n",
      "batch_normalization_76 (Batc (None, 7, 7, 384)         1536      \n",
      "_________________________________________________________________\n",
      "conv2d_51 (Conv2D)           (None, 5, 5, 256)         884992    \n",
      "_________________________________________________________________\n",
      "activation_86 (Activation)   (None, 5, 5, 256)         0         \n",
      "_________________________________________________________________\n",
      "max_pooling2d_30 (MaxPooling (None, 2, 2, 256)         0         \n",
      "_________________________________________________________________\n",
      "batch_normalization_77 (Batc (None, 2, 2, 256)         1024      \n",
      "_________________________________________________________________\n",
      "flatten_9 (Flatten)          (None, 1024)              0         \n",
      "_________________________________________________________________\n",
      "dense_36 (Dense)             (None, 9216)              9446400   \n",
      "_________________________________________________________________\n",
      "activation_87 (Activation)   (None, 9216)              0         \n",
      "_________________________________________________________________\n",
      "dropout_27 (Dropout)         (None, 9216)              0         \n",
      "_________________________________________________________________\n",
      "batch_normalization_78 (Batc (None, 9216)              36864     \n",
      "_________________________________________________________________\n",
      "dense_37 (Dense)             (None, 4096)              37752832  \n",
      "_________________________________________________________________\n",
      "activation_88 (Activation)   (None, 4096)              0         \n",
      "_________________________________________________________________\n",
      "dropout_28 (Dropout)         (None, 4096)              0         \n",
      "_________________________________________________________________\n",
      "batch_normalization_79 (Batc (None, 4096)              16384     \n",
      "_________________________________________________________________\n",
      "dense_38 (Dense)             (None, 4096)              16781312  \n",
      "_________________________________________________________________\n",
      "activation_89 (Activation)   (None, 4096)              0         \n",
      "_________________________________________________________________\n",
      "dropout_29 (Dropout)         (None, 4096)              0         \n",
      "_________________________________________________________________\n",
      "batch_normalization_80 (Batc (None, 4096)              16384     \n",
      "_________________________________________________________________\n",
      "dense_39 (Dense)             (None, 1000)              4097000   \n",
      "_________________________________________________________________\n",
      "activation_90 (Activation)   (None, 1000)              0         \n",
      "=================================================================\n",
      "Total params: 71,899,880\n",
      "Trainable params: 71,862,312\n",
      "Non-trainable params: 37,568\n",
      "_________________________________________________________________\n"
     ]
    }
   ],
   "source": [
    "alexnet = AlexNet()\n",
    "alexnet.build()"
   ]
  },
  {
   "cell_type": "code",
   "execution_count": 43,
   "metadata": {},
   "outputs": [
    {
     "name": "stdout",
     "output_type": "stream",
     "text": [
      "(11, 11, 3, 96)\n"
     ]
    }
   ],
   "source": [
    "print(w_c1.shape)"
   ]
  },
  {
   "cell_type": "code",
   "execution_count": 44,
   "metadata": {},
   "outputs": [],
   "source": [
    "x = tf.placeholder(tf.float32, [None, 224, 224, 3])"
   ]
  },
  {
   "cell_type": "code",
   "execution_count": 45,
   "metadata": {},
   "outputs": [
    {
     "name": "stdout",
     "output_type": "stream",
     "text": [
      "Tensor(\"Placeholder:0\", shape=(?, 224, 224, 3), dtype=float32)\n"
     ]
    }
   ],
   "source": [
    "print(x)"
   ]
  },
  {
   "cell_type": "code",
   "execution_count": null,
   "metadata": {},
   "outputs": [],
   "source": []
  }
 ],
 "metadata": {
  "kernelspec": {
   "display_name": "master",
   "language": "python",
   "name": "master"
  },
  "language_info": {
   "codemirror_mode": {
    "name": "ipython",
    "version": 3
   },
   "file_extension": ".py",
   "mimetype": "text/x-python",
   "name": "python",
   "nbconvert_exporter": "python",
   "pygments_lexer": "ipython3",
   "version": "3.6.5"
  }
 },
 "nbformat": 4,
 "nbformat_minor": 2
}
